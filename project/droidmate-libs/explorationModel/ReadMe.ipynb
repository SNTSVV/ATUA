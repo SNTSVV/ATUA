{
 "cells": [
  {
   "cell_type": "markdown",
   "metadata": {},
   "source": [
    "# DM-2 Model Documentation\n",
    "\n",
    "#### Note: \n",
    "In this sample code we make use of `runBlocking` to access suspending methods.  \n",
    "However, <font color=orange>you should avoid blocking calls (runBlocking) within your code to prevent deadlocks and performance impacts</font>.  \n",
    "Instead change the respecting methods to suspend functions and only wrap your main method in one single blocking call, e.g.\n",
    "```kotlin\n",
    "@JvmStatic\n",
    "fun main(args: Array<String>) = runBlocking {\n",
    "\t// your method calls\n",
    "}\n",
    "```\n",
    "\n",
    "\n",
    "<br>First, before you can use any imported class, load the (maven) dependencies"
   ]
  },
  {
   "cell_type": "code",
   "execution_count": null,
   "metadata": {
    "init_cell": true
   },
   "outputs": [],
   "source": [
    "// customize the repository from which we fetch the (maven) dependency\n",
    "%classpath config resolver com.github https://jitpack.io\n",
    "// add the dependency to classpath\n",
    "%classpath add mvn com.github.hotzkow explorationModel master-SNAPSHOT jar\n",
    "// we can check the classpath via\n",
    "ClasspathManager.getJars()"
   ]
  },
  {
   "cell_type": "markdown",
   "metadata": {},
   "source": [
    "## Custom Model Extension\n",
    "\n",
    "Extending the default model allows you to overwrite any open function like the id computation or the criteria when any widget is considered 'interactive'.  \n",
    "Moreover, you may add additional properties depending on your specific exploration strategy.\n",
    "\n",
    "Note: that any *new custom properties* are not persisted on model dump, meaning if this property cannot be recomputed at initialization you need to persit these properties on your own."
   ]
  },
  {
   "cell_type": "code",
   "execution_count": null,
   "metadata": {},
   "outputs": [],
   "source": [
    "import kotlinx.coroutines.runBlocking\n",
    "import org.droidmate.deviceInterface.exploration.UiElementPropertiesI\n",
    "import org.droidmate.explorationModel.config.ModelConfig\n",
    "import org.droidmate.explorationModel.*\n",
    "import org.droidmate.explorationModel.factory.*\n",
    "import org.droidmate.explorationModel.interaction.*\n",
    "\n",
    "class CustomWidget(properties: UiElementPropertiesI,\n",
    "                   parentId: ConcreteId?): Widget(properties,parentId){\n",
    "\toverride fun toString(): String = super.toString().replace(\"Widget\",\"CustomWidget\")\n",
    "}\n",
    "\n",
    "class CustomState(_widgets: Collection<CustomWidget>, isHomeScreen: Boolean = false): State<CustomWidget>(_widgets,isHomeScreen){\n",
    "\toverride fun toString(): String = super.toString().replace(\"State\",\"CustomState\")\n",
    "}\n",
    "\n",
    "class CustomModel(\n",
    "\toverride val config: ModelConfig,\n",
    "\toverride val stateProvider: StateFactory<CustomState, CustomWidget>,\n",
    "\toverride val widgetProvider: WidgetFactory<CustomWidget>\n",
    ") : AbstractModel<CustomState,CustomWidget>(){\n",
    "\toverride fun toString(): String = super.toString().replace(\"Model\",\"CustomModel\")\n",
    "}\n",
    "\n",
    "class CustomModelProvider: ModelProvider<CustomModel>() {\n",
    "\n",
    "\tval stateProvider = object : StateProvider<CustomState,CustomWidget>(){\n",
    "\t\toverride fun init(widgets: Collection<CustomWidget>, isHomeScreen: Boolean): CustomState = CustomState(widgets, isHomeScreen)\n",
    "\t}\n",
    "    \n",
    "\t@Suppress(\"MemberVisibilityCanBePrivate\")\n",
    "\tval widgetProvider = object : WidgetProvider<CustomWidget>(){\n",
    "\t\toverride fun init(properties: UiElementPropertiesI, parentId: ConcreteId?): CustomWidget = CustomWidget(properties,parentId)\n",
    "\t}\n",
    "\n",
    "\toverride fun create(config: ModelConfig): CustomModel\n",
    "\t= CustomModel(config = config, stateProvider = stateProvider, widgetProvider = widgetProvider)\n",
    "}"
   ]
  },
  {
   "cell_type": "markdown",
   "metadata": {},
   "source": [
    "Usually you would simple pass your `CustomModelProvider` to the explore method DM-2's `ExplorationAPI`.  \n",
    "However for the following demonstrations we want to manually create a 'dummy' model."
   ]
  },
  {
   "cell_type": "code",
   "execution_count": null,
   "metadata": {
    "tags": [
     "createModel"
    ]
   },
   "outputs": [],
   "source": [
    "import com.natpryce.konfig.ConfigurationMap\n",
    "\n",
    "object DemoModel{\n",
    "  // first initialize our model provider\n",
    "  val mp = CustomModelProvider()\n",
    "  val model get() = mp.get()\n",
    "  \n",
    "  // before we can create an empty model we have to initialize the model config\n",
    "  // usually DM-2 would do this for us\n",
    "  val customCfg = ConfigurationMap(mapOf(\n",
    "    \"Output.outputDir\" to \"/tmp/DM-2\",\n",
    "    // to prevent removal of previously stored models (per default $outputDir/models is cleared on initialization)\n",
    "//       \"ModelProperties.path.cleanDirs\" to \"false\",\n",
    "    \"ModelProperties.dump.sep\" to \",\"\n",
    "  ))\n",
    "  \n",
    "  init{\n",
    "    \n",
    "    // create the configuration according to your app-name, we can pass a custom configuration [cfg], e.g. to customize the path where the model is stored\n",
    "    // if [isLoadC] is false all (parent) directories will be created automatically but not if it is true, since that could overwrite existing files\n",
    "    val cfg = ModelConfig(\"TestModel\", isLoadC = false, cfg = customCfg)\n",
    "    // initialize the config in the model provider\n",
    "    mp.config = cfg\n",
    "    // the path where the model is going to be stored\n",
    "    println(mp.config.baseDir)\n",
    "    beakerx[\"modelpath\"] = mp.config.baseDir.toString()\n",
    "  }\n",
    "\n",
    "  // let us add some widget and state objects to create a demo model\n",
    "  // adding/getting states/widgets is asynchronous, therefore it can only be called from a corourtine scope\n",
    "  suspend fun create(){\n",
    "    val se = model.emptyState\n",
    "    // the model uses [model.addState(se)], but this method is package private\n",
    "    mp.stateProvider.addState(se)\n",
    "    // the states are organized as Set meaning we won't have any duplicate states, but the [addState] property will show how often this method was called\n",
    "    mp.stateProvider.addState(se)\n",
    "    val we = model.emptyWidget\n",
    "    //FIXME lazy create does not work in jupyter?\n",
    "  //     val state by mp.stateProvider.lazyCreate(Pair(listOf(we),false))\n",
    "    val state = mp.stateProvider.create(Pair(listOf(we),false))\n",
    "    mp.stateProvider.addState(state)\n",
    "\n",
    "    // create a dummy exploration trace with a single action leading to our second state, containing one widget\n",
    "    val et = model.initNewTrace()\n",
    "    et.update(EmptyActionResult,state)\n",
    "  }\n",
    "}\n",
    "\n",
    "runBlocking{\n",
    "\n",
    "  // we start with an empty model\n",
    "  val model = DemoModel.model\n",
    "  println(model)\n",
    "  println()\n",
    "\n",
    "  DemoModel.create()\n",
    "  // we now should have two states and one widget in the model\n",
    "  val states = runBlocking{ model.getStates() }\n",
    "  println(\"states = \\n\" +                                               \n",
    "          \"\\t${states.joinToString(separator = \",\\n\\t\")}; \\n\\n\" +\n",
    "          \"model = $model\")\n",
    "}"
   ]
  },
  {
   "cell_type": "markdown",
   "metadata": {},
   "source": [
    "When inspecting the states of our demo model we see that one of them contains a widget.\n",
    "However, the Model.toString() method will not show this widget.  \n",
    "This is caused by the fact that we 'manually' injected the elements and were not able to call the internal model update function which would have increased this counter.\n",
    "\n",
    "In any case the `addState` and `addWidget` properties only tell us how often the internal add functions were called.  \n",
    "To determine how many states and elements a model really has we need to call `getStates` and `getWidgets` and count the number of elements. Since this call may be rather expensive for big models this is not done by default and should be avoided as long as this information is not necessary."
   ]
  },
  {
   "cell_type": "code",
   "execution_count": null,
   "metadata": {},
   "outputs": [],
   "source": [
    "runBlocking{\n",
    "  val numWidgets = DemoModel.model.getWidgets().count()\n",
    "  val numStates = DemoModel.model.getStates().count()\n",
    "  println(\"#widgets = $numWidgets\\n\" +\n",
    "          \"#states  = $numStates\")\n",
    "}"
   ]
  },
  {
   "cell_type": "markdown",
   "metadata": {},
   "source": [
    "##  Persisting a Model\n",
    "\n",
    "By default DM-2 will store the model to the confiured path after each action (i.e. if ModelProperties.dump.onEachAction=true).\n",
    "\n",
    "Alternativel the model can be stored at any arbitrary time by invoking the method `dumpModel(config)` on the model object."
   ]
  },
  {
   "cell_type": "code",
   "execution_count": null,
   "metadata": {
    "tags": [
     "dumpModel"
    ]
   },
   "outputs": [],
   "source": [
    "runBlocking{ \n",
    "  DemoModel.model.dumpModel(DemoModel.mp.config)\n",
    "}"
   ]
  },
  {
   "cell_type": "code",
   "execution_count": null,
   "metadata": {},
   "outputs": [],
   "source": [
    "%%python\n",
    "\n",
    "from beakerx.object import beakerx\n",
    "\n",
    "# there should appear two csv files and one of them contains one widget entry\n",
    "import os\n",
    "print(os.listdir(beakerx.modelpath+\"/states\"))\n",
    "\n",
    "import pandas as pd\n",
    "\n",
    "# beakerx.modelpath = tmp/DM-2/model/TestModel\n",
    "print( pd.read_csv(beakerx.modelpath+\"/states/c7468efa-44dc-6869-9ca9-0bb9a2d478e3_e835e6fc-78b8-9974-bd98-63bbd6b0a9ee.csv\") )"
   ]
  },
  {
   "cell_type": "markdown",
   "metadata": {},
   "source": [
    "## Model Loading\n",
    "\n",
    "To load a model, you first need to invoke the respecive method of the modelparser with your (custom) modelprovider."
   ]
  },
  {
   "cell_type": "code",
   "execution_count": null,
   "metadata": {},
   "outputs": [],
   "source": [
    "import org.droidmate.explorationModel.config.ModelConfig\n",
    "import org.droidmate.explorationModel.retention.loading.*\n",
    "import kotlinx.coroutines.*\n",
    "\n",
    " \n",
    "runBlocking{\n",
    "  // Note: the loaded model will only contain states which are listed in the exploration trace file\n",
    "  val mpl = CustomModelProvider()\n",
    "  mpl.config = ModelConfig(\"TestModel\", isLoadC = true, cfg = DemoModel.customCfg)\n",
    "  val m = ModelParser.loadModel(modelProvider = mpl, sequential = true)\n",
    "  println(m)\n",
    "\n",
    "  val numWidgets = m.getWidgets().count()\n",
    "  val numStates = m.getStates().count()\n",
    "  println(\"#widgets = $numWidgets\\n\" +\n",
    "          \"#states  = $numStates\")\n",
    "\n",
    "}"
   ]
  }
 ],
 "metadata": {
  "kernelspec": {
   "display_name": "Kotlin",
   "language": "kotlin",
   "name": "kotlin"
  },
  "language_info": {
   "codemirror_mode": "kotlin",
   "file_extension": ".kt",
   "mimetype": "",
   "name": "Kotlin",
   "nbconverter_exporter": "",
   "version": "1.3.21"
  },
  "toc": {
   "base_numbering": 1,
   "nav_menu": {},
   "number_sections": false,
   "sideBar": false,
   "skip_h1_title": false,
   "title_cell": "Table of Contents",
   "title_sidebar": "Contents",
   "toc_cell": false,
   "toc_position": {},
   "toc_section_display": false,
   "toc_window_display": false
  }
 },
 "nbformat": 4,
 "nbformat_minor": 2
}
